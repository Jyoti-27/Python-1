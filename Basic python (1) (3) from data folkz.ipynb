{
 "cells": [
  {
   "cell_type": "markdown",
   "metadata": {},
   "source": [
    "# Advanced Certification in AIML\n",
    "## A Program by Datafolkz\n",
    "### Introduction to Python\n",
    "\n",
    "# Intro to Jupyter Notebook \n",
    "\n",
    "- SHIFT + ENTER for EXECuting the CELL using Jupyter noteboook\n",
    "\n",
    "Shortcuts in both modes:\n",
    "- Shift + Enter run the current cell, select below\n",
    "- Ctrl + Enter run selected cells\n",
    "- Alt + Enter run the current cell, insert below\n",
    "- Ctrl + S save and checkpoint"
   ]
  },
  {
   "cell_type": "code",
   "execution_count": 10,
   "metadata": {},
   "outputs": [
    {
     "name": "stdout",
     "output_type": "stream",
     "text": [
      "Hello World\n"
     ]
    }
   ],
   "source": [
    "print('Hello World') # Printing the word Hello world"
   ]
  },
  {
   "cell_type": "raw",
   "metadata": {},
   "source": [
    "a=15\n",
    "a"
   ]
  },
  {
   "cell_type": "markdown",
   "metadata": {},
   "source": [
    "- esc + m for code to markdown\n",
    " \n",
    "- esc + y for markdown to code "
   ]
  },
  {
   "cell_type": "markdown",
   "metadata": {},
   "source": [
    "## Julia , Python and R can be done using JupyterR"
   ]
  },
  {
   "cell_type": "markdown",
   "metadata": {},
   "source": [
    "About Python\n",
    "- Python is a scripting langugae\n",
    "- Its  case sensitive \n",
    "- Its object oriented language\n",
    "\n",
    "Python program is first compiled and then interpreted. The compilation part is hidden from the programmer thus, many programmers believe that it is an interpreted language. The compilation part is done first when we execute our code and this will generate byte code and internally this byte code gets converted by the python virtual machine(p.v.m) according to the underlying platform(machine+operating system).\n",
    "\n",
    "An interpreter translates high-level instructions into an intermediate form, which it then executes. In contrast, a compiler translates high-level instructions directly into machine language. Compiled programs generally run faster than interpreted programs. The advantage of an interpreter, however, is that it does not need to go through the compilation stage during which machine instructions are generated. This process can be time-consuming if the program is long. The interpreter, on the other hand, can immediately execute high-level program"
   ]
  },
  {
   "cell_type": "markdown",
   "metadata": {},
   "source": [
    "## Lexical Structure\n",
    "\n",
    "The lexical structure of a programming language is the set of basic rules \n",
    "that govern how you write programs in that language.\n",
    "\n",
    "It is the lowest-level syntax of the language and specifies such things \n",
    "as what variable names look like and which characters denote comments. \n",
    "\n",
    "Each Python source file, like any other text file, is a sequence of characters. \n",
    "\n",
    "You can also usefully consider it as a sequence of lines, tokens, or statements. \n",
    "\n",
    "These different lexical views complement and reinforce each other. \n",
    "\n",
    "Python is very particular about program layout,especially with regard to lines and indentation, \n",
    "so you’ll want to pay attention to this information if you are coming to Python from another language."
   ]
  },
  {
   "cell_type": "markdown",
   "metadata": {},
   "source": [
    "## Lines and Indentation\n",
    "•\tA Python program is composed of a sequence of logical lines, each made up of one or more physical lines. Each physical line may end with a comment. \n",
    "A hash sign (#) that is not inside a string literal begins a comment. \n",
    "\n",
    "•\tAll characters after the # and up to the physical line end are part of the comment, and the Python interpreter ignores them. \n",
    "\n",
    "•\tA line containing only whitespace, possibly with a comment, is known as a blank line, and Python totally ignores it. \n",
    "\n",
    "•\tIn an interactive interpreter session, you must enter an empty physical line (without any whitespace or comment) to terminate a multiline statement."
   ]
  },
  {
   "cell_type": "markdown",
   "metadata": {},
   "source": [
    "•\tHowever, Python automatically joins adjacent physical lines into one logical line if an open parenthesis ((), bracket ([), or brace ({) has not yet been closed, and taking advantage of this mechanism, generally produces more readable code instead of explicitly inserting backslashes at physical line ends.\n",
    "                                                                                                                                          \n",
    "•\tTriple-quoted string literals can also span physical lines. Physical lines after the first one in a logical line are known as continuation lines. \n"
   ]
  },
  {
   "cell_type": "markdown",
   "metadata": {},
   "source": [
    "## Indentation\n",
    "•\tThe indentation issues covered next do not apply to continuation lines but only to the first physical line of each logical line.\n",
    "\n",
    "•\tPython uses indentation to express the block structure of a program. Unlike other languages, Python does not use braces, or other begin/end delimiters, around blocks of statements; indentation is the only way to denote such blocks.\n",
    "\n",
    "•\tEach logical line in a Python program is indented by the whitespace on its left. A block is a contiguous sequence of logical lines, all indented by the same amount; a logical line with less indentation ends the block. \n",
    "\n",
    "•\tAll statements in a block must have the same indentation, as must all clauses in a compound statement.\n",
    "\n",
    "•\tThe first statement in a source file must have no indentation (i.e., must not begin with any whitespace).\n",
    "\n",
    "•\tStatements that you type at the interactive interpreter primary prompt >>> (covered in Interactive Sessions) must also have no indentation.\n"
   ]
  },
  {
   "cell_type": "markdown",
   "metadata": {},
   "source": [
    "## Tokens\n",
    "\n",
    "•\tPython breaks each logical line into a sequence of elementary lexical components known as tokens. Each token corresponds to a substring of the logical line. \n",
    "\n",
    "•\tThe normal token types are identifiers, keywords, operators, delimiters, and literals, as covered in the following sections.\n",
    "\n",
    "•\tYou may freely use whitespace between tokens to separate them. Some whitespace separation is necessary between logically adjacent identifiers or keywords; otherwise, Python would parse them as a single, longer identifier. \n",
    " For example, printx is a single identifier; to write the keyword print followed by the identifier x, you need to insert some whitespace (e.g., print x).\n"
   ]
  },
  {
   "cell_type": "code",
   "execution_count": 2,
   "metadata": {},
   "outputs": [
    {
     "name": "stdout",
     "output_type": "stream",
     "text": [
      "2\n"
     ]
    }
   ],
   "source": [
    "print(2)"
   ]
  },
  {
   "cell_type": "markdown",
   "metadata": {},
   "source": [
    "## Identifiers\n",
    "\n",
    "•\tAn identifier is a name used to identify a variable, function, class, module, or other object. An identifier starts with a letter (A to Z or a to z) or an underscore (_) followed by zero or more letters, underscores, and digits (0 to 9).\n",
    "\n",
    "•\tCase is significant in Python: lowercase and uppercase letters are distinct. Python does not allow punctuation characters such as @, $, and % within identifiers.\n",
    "    \n",
    "•\tNormal Python style is to start class names with an uppercase letter and all other identifiers with a lowercase letter. \n",
    "\n",
    "•\tStarting an identifier with a single leading underscore indicates by convention that the identifier is meant to be private. \n",
    "\n",
    "•\tStarting an identifier with two leading underscores indicates a strongly private identifier; if the identifier also ends with two trailing underscores, the identifier is a language-defined special name. \n",
    "\n",
    "•\tThe identifier _ (a single underscore) is special in interactive interpreter sessions: the interpreter binds _ to the result of the last expression statement it has evaluated interactively, if any.\n"
   ]
  },
  {
   "attachments": {
    "image.png": {
     "image/png": "[encoded data removed]"
    }
   },
   "cell_type": "markdown",
   "metadata": {},
   "source": [
    "## Keywords\n",
    "\n",
    "Keywords are the reserved words in Python.\n",
    "\n",
    "We cannot use a keyword as a variable name, function name or any other identifier. They are used to define the syntax and structure of the Python language.\n",
    "\n",
    "In Python, keywords are case sensitive.\n",
    "\n",
    "There are 33 keywords in Python 3.7. This number can vary slightly over the course of time.\n",
    "\n",
    "All the keywords except True, False and None are in lowercase and they must be written as they are. \n",
    "\n",
    "The list of all the keywords is given below.\n",
    "\n",
    "![image.png](attachment:image.png)\n",
    "\n",
    "\n",
    "\n"
   ]
  },
  {
   "cell_type": "code",
   "execution_count": 5,
   "metadata": {},
   "outputs": [
    {
     "name": "stdout",
     "output_type": "stream",
     "text": [
      "['False', 'None', 'True', 'and', 'as', 'assert', 'async', 'await', 'break', 'class', 'continue', 'def', 'del', 'elif', 'else', 'except', 'finally', 'for', 'from', 'global', 'if', 'import', 'in', 'is', 'lambda', 'nonlocal', 'not', 'or', 'pass', 'raise', 'return', 'try', 'while', 'with', 'yield']\n",
      "Total number of keywords  35\n"
     ]
    }
   ],
   "source": [
    "#Get all keywords in python 3.7\n",
    "\n",
    "import keyword # import the library Keyword\n",
    "\n",
    "print(keyword.kwlist) \n",
    "\n",
    "\n",
    "print(\"Total number of keywords \", len(keyword.kwlist))"
   ]
  },
  {
   "cell_type": "code",
   "execution_count": 8,
   "metadata": {},
   "outputs": [
    {
     "name": "stdout",
     "output_type": "stream",
     "text": [
      "35\n"
     ]
    }
   ],
   "source": [
    "age = 35\n",
    "print(age)"
   ]
  },
  {
   "cell_type": "code",
   "execution_count": 11,
   "metadata": {},
   "outputs": [
    {
     "name": "stdout",
     "output_type": "stream",
     "text": [
      "45\n"
     ]
    }
   ],
   "source": [
    "Global = 45\n",
    "print(Global)"
   ]
  },
  {
   "cell_type": "markdown",
   "metadata": {},
   "source": [
    "## Operators\n",
    "\n",
    "Python uses non alphanumeric characters and character combinations as operators. \n",
    "\n",
    "Python divides the operators in the following groups:\n",
    "    \n",
    "\n",
    "- Arithmetic operators\n",
    "- Assignment operators\n",
    "- Comparison operators\n",
    "- Logical operators\n",
    "- Identity operators\n",
    "- Membership operators\n",
    "- Bitwise operators\n",
    "\n"
   ]
  },
  {
   "cell_type": "markdown",
   "metadata": {},
   "source": [
    "## Delimiter\n",
    "- **Used for grouping, punctuations and assignments**\n",
    "- (), [], {}\n",
    "- , : . ' = ;\n",
    "- += -= *= /= //= %=\n",
    "- &= |= ^= >>= <<= **="
   ]
  },
  {
   "cell_type": "markdown",
   "metadata": {},
   "source": [
    "## Literals\n",
    "\n",
    "A literal is a number or string that appears directly in a program.\n",
    "\n",
    "The following are all literals in Python:\n",
    "    \n",
    "- Integer literal 42\n",
    "- Floating-point literal 3.14                       \n",
    "- Imaginary literal 1.0j                       \n",
    "- String literal  'hello'                    \n",
    "- Another string literal \"world\"                   \n",
    "- Triple-quoted string literal \"\"\"Good night\"\"\"           \n"
   ]
  },
  {
   "cell_type": "markdown",
   "metadata": {},
   "source": [
    "## Identifier/Variable\n",
    "\n",
    "Which stores a value\n",
    "\n",
    "- It is a sequence of characters that consists of letters, digits and  underscore\n",
    "- Can be of any length\n",
    "- Can starts with a letter which can be either lower or upper case\n",
    "- Can start with an underscore '_'\n",
    "- Can start with a digit\n",
    "- Cannot be a keyword."
   ]
  },
  {
   "cell_type": "markdown",
   "metadata": {},
   "source": [
    "# Why Statistics is required for Analytics?\n",
    "\n",
    "Without statistics, the interpretation of data can quickly become massively\n",
    "flawed. \n",
    "Take, for example, the estimated number of German tanks produced during\n",
    "World War II, also known as the “German Tank Problem.” The estimate of the\n",
    "number of German tanks produced per month from standard intelligence data was\n",
    "1,550; however, the statistical estimate based on the number of tanks observed\n",
    "was 327, which was very close to the actual production number of 342"
   ]
  },
  {
   "cell_type": "markdown",
   "metadata": {},
   "source": [
    "Similarly, using the wrong tests can also lead to erroneous results.\n",
    "\n",
    "In general, statistics will help to\n",
    "\n",
    "• Clarify the question.\n",
    "\n",
    "• Identify the variable and the measure of that variable that will answer that\n",
    "question.\n",
    "\n",
    "• Determine the required sample size.\n",
    "\n",
    "• Describe variation.\n",
    "\n",
    "• Make quantitative statements about estimated parameters.\n",
    "\n",
    "• Make predictions based on your data."
   ]
  },
  {
   "cell_type": "code",
   "execution_count": 8,
   "metadata": {},
   "outputs": [
    {
     "name": "stdout",
     "output_type": "stream",
     "text": [
      "10\n"
     ]
    },
    {
     "data": {
      "text/plain": [
       "10"
      ]
     },
     "execution_count": 8,
     "metadata": {},
     "output_type": "execute_result"
    }
   ],
   "source": [
    "a1 = 10\n",
    "print(a1)\n",
    "a1"
   ]
  },
  {
   "cell_type": "markdown",
   "metadata": {},
   "source": [
    "## Scalar Data Types and Operations\n",
    "\n",
    "Python has four scalar data types:\n",
    "\n",
    "- Integer\n",
    "- Float\n",
    "- Boolean\n",
    "- Complex\n",
    "\n",
    "We will review these in this notebook"
   ]
  },
  {
   "cell_type": "markdown",
   "metadata": {},
   "source": [
    "## Integers\n",
    "\n",
    "The usual arithmetic operators are available: + for addition, - for subtraction and * for multiplication."
   ]
  },
  {
   "cell_type": "code",
   "execution_count": 26,
   "metadata": {},
   "outputs": [
    {
     "name": "stdout",
     "output_type": "stream",
     "text": [
      "6\n",
      "12879\n",
      "4\n",
      "-1\n",
      "48\n",
      "204\n"
     ]
    }
   ],
   "source": [
    "print(2 + 4)\n",
    "print(12878 + 1)\n",
    "print(7 - 3)\n",
    "print(127 - 128)\n",
    "print(8 * 6)\n",
    "print(17 * 12)"
   ]
  },
  {
   "cell_type": "markdown",
   "metadata": {},
   "source": [
    "There are two division operators:\n",
    "    / for everyday (float) division and // for truncating (integer) division"
   ]
  },
  {
   "cell_type": "code",
   "execution_count": 28,
   "metadata": {},
   "outputs": [
    {
     "name": "stdout",
     "output_type": "stream",
     "text": [
      "4.25\n",
      "4\n"
     ]
    }
   ],
   "source": [
    "print(17 / 4)\n",
    "print(17 // 4)"
   ]
  },
  {
   "cell_type": "markdown",
   "metadata": {},
   "source": [
    "The modulo operator % and the exponentiation operator ** are also available."
   ]
  },
  {
   "cell_type": "code",
   "execution_count": 29,
   "metadata": {},
   "outputs": [
    {
     "name": "stdout",
     "output_type": "stream",
     "text": [
      "0\n",
      "2\n",
      "32\n"
     ]
    }
   ],
   "source": [
    "print(18 % 3)\n",
    "print(72 % 5)\n",
    "print(2 ** 5)"
   ]
  },
  {
   "cell_type": "markdown",
   "metadata": {},
   "source": [
    "The usual operator precedence rules and use of parentheses to override that are available"
   ]
  },
  {
   "cell_type": "code",
   "execution_count": 32,
   "metadata": {},
   "outputs": [
    {
     "name": "stdout",
     "output_type": "stream",
     "text": [
      "697\n",
      "99999999999997\n",
      "100000000000\n"
     ]
    }
   ],
   "source": [
    "print(10 ** 2 * 7 - 3)\n",
    "print(10 ** (2 * 7) - 3)\n",
    "print(10 ** (2 * 7 - 3))"
   ]
  },
  {
   "cell_type": "code",
   "execution_count": 13,
   "metadata": {},
   "outputs": [
    {
     "name": "stdout",
     "output_type": "stream",
     "text": [
      "95895286347222034791086605662811969785387106853901346544483953642680116799305429392916328044803964544906412568173586838975389693889466931724787382602209026851413718672992500945459050967973754074446682840115185173491232894943036718270805266686475439556591818306146142541531042457606878440869168972012200929781450791973866289435058898863980805449821148199924662026572772426330363272818353600292677639914650163602402387046082945396504228157351617787966026866638977428336270761039733807499229574152744708406709999198108421875593674670017724918532931998179661679487371607921869488779614480174654183050554148246295513430972687654798140382162446340357982348270186444388129720941541158390538541492685710752623852622720768334430468852097226917149171660953626254466986940765253382358001339174903296347169720023617297994349779160697050425373047121064748421434125128308764115407012030949147264066116731171517339637266846118243586757670417982965125332116703787163047835949441767799201\n"
     ]
    }
   ],
   "source": [
    "a = 123456789 \n",
    "b = a ** 2\n",
    "c = b ** 3\n",
    "d = c ** 4\n",
    "e = d ** 5\n",
    "print(e)"
   ]
  },
  {
   "cell_type": "markdown",
   "metadata": {},
   "source": [
    "##### Assignment operators\n",
    "The standard assignment operators are available. That is,  $\\alpha$  $\\odot=\\beta$ is a shorthand for $\\alpha = \\alpha \\odot \\beta$\n",
    "where $\\odot$ is any binary arithmetic operator we saw above"
   ]
  },
  {
   "cell_type": "code",
   "execution_count": 14,
   "metadata": {},
   "outputs": [
    {
     "name": "stdout",
     "output_type": "stream",
     "text": [
      "17 5\n",
      "12 5\n",
      "60 5\n",
      "777600000 5\n"
     ]
    }
   ],
   "source": [
    "a = 12\n",
    "b = 5\n",
    "a += b\n",
    "print(a, b)\n",
    "a -= b\n",
    "print(a, b)\n",
    "a *= b\n",
    "print(a, b)\n",
    "a **=b\n",
    "print(a,b)"
   ]
  },
  {
   "cell_type": "markdown",
   "metadata": {},
   "source": [
    "#### Boolean\n",
    "The two constants True and False are defined.\n",
    "\n",
    "The usual boolean operators are also available: ==, !=, >, >=, <, <= "
   ]
  },
  {
   "cell_type": "code",
   "execution_count": 15,
   "metadata": {},
   "outputs": [
    {
     "name": "stdout",
     "output_type": "stream",
     "text": [
      "True False True True False\n"
     ]
    }
   ],
   "source": [
    "a = 12\n",
    "b = 13\n",
    "print(a == b - 1,a == b, a != b, a < b, a >= b)"
   ]
  },
  {
   "cell_type": "markdown",
   "metadata": {},
   "source": [
    "#### Float\n",
    "Python has a float datatype (and it is the same as C's double!) and the above operations are available"
   ]
  },
  {
   "cell_type": "code",
   "execution_count": 17,
   "metadata": {},
   "outputs": [
    {
     "name": "stdout",
     "output_type": "stream",
     "text": [
      "12.9\n",
      "3.6\n",
      "16.5\n",
      "9.3\n",
      "46.440000000000005\n",
      "3.5833333333333335\n",
      "12.9 3.6 16.5 9.3 46.440000000000005 3.5833333333333335\n"
     ]
    }
   ],
   "source": [
    "a = 12.9\n",
    "b = 3.6\n",
    "c = a + b\n",
    "d = a - b\n",
    "e = a * b #Watch out for the round off error!\n",
    "f = a / b\n",
    "print(a, b, c, d, e, f, sep=\"\\n\")\n",
    "print(a, b, c, d, e, f)"
   ]
  },
  {
   "cell_type": "markdown",
   "metadata": {},
   "source": [
    "## Complex\n",
    "\n",
    "Complex numbers are built-in"
   ]
  },
  {
   "cell_type": "code",
   "execution_count": 18,
   "metadata": {},
   "outputs": [
    {
     "name": "stdout",
     "output_type": "stream",
     "text": [
      "(3-4j)\n",
      "3.0\n",
      "-4.0\n",
      "5.0\n"
     ]
    }
   ],
   "source": [
    "z = 3 - 4j\n",
    "print(z, z.real, z.imag, abs(z), sep=\"\\n\")"
   ]
  },
  {
   "cell_type": "code",
   "execution_count": 19,
   "metadata": {},
   "outputs": [],
   "source": [
    "x = 5 + 12j"
   ]
  },
  {
   "cell_type": "code",
   "execution_count": 21,
   "metadata": {},
   "outputs": [
    {
     "name": "stdout",
     "output_type": "stream",
     "text": [
      "(8+8j)\n",
      "(-2-16j)\n",
      "(63+16j)\n",
      "(-1.32+2.24j)\n"
     ]
    }
   ],
   "source": [
    "print(z + x, z - x, z * x, x / z, sep=\"\\n\")"
   ]
  },
  {
   "cell_type": "markdown",
   "metadata": {},
   "source": [
    "## Variables in Python\n",
    "\n",
    "Variables are used to store data, they take memory space based on the type of value we assigning to them. Creating variables in Python is simple, you just have write the variable name on the left side of = and the value on the right side, as shown below. \n",
    "You do not have to explicitly mention the type of the variable, python infer the type based on the value we are assigning.\n",
    "\n",
    "\n",
    "\n"
   ]
  },
  {
   "cell_type": "markdown",
   "metadata": {},
   "source": [
    "## Variable name – Identifiers\n",
    "\n",
    "Variable name is known as identifier. \n",
    "There are few rules that you have to follow while naming the variables in Python.\n",
    "\n",
    "- The name of the variable must always start with either a letter or an underscore (_). For example:  _str, str, num, _num are all valid name for the variables.\n",
    "- The name of the variable cannot start with a number. For example: 9num is not a valid variable name.\n",
    "- The name of the variable cannot have special characters such as %, $, # etc, they can only have alphanumeric characters and underscore (A to Z, a to z, 0-9 or _ ).\n",
    "- Variable name is case sensitive in Python which means num and NUM are two different variables in python."
   ]
  },
  {
   "cell_type": "code",
   "execution_count": 19,
   "metadata": {},
   "outputs": [
    {
     "name": "stdout",
     "output_type": "stream",
     "text": [
      "35\n",
      "Aravind\n"
     ]
    },
    {
     "data": {
      "text/plain": [
       "32"
      ]
     },
     "execution_count": 19,
     "metadata": {},
     "output_type": "execute_result"
    }
   ],
   "source": [
    "#Python Variable Example\n",
    "age = 35\n",
    "Name = 'Aravind'\n",
    "print(age)\n",
    "print(Name)\n",
    "32"
   ]
  },
  {
   "cell_type": "code",
   "execution_count": 16,
   "metadata": {},
   "outputs": [],
   "source": [
    "# first position of the variable can be underscore\n",
    "_age = 35"
   ]
  },
  {
   "cell_type": "code",
   "execution_count": 18,
   "metadata": {},
   "outputs": [
    {
     "ename": "SyntaxError",
     "evalue": "invalid syntax (<ipython-input-18-11927397c5c4>, line 2)",
     "output_type": "error",
     "traceback": [
      "\u001b[1;36m  File \u001b[1;32m\"<ipython-input-18-11927397c5c4>\"\u001b[1;36m, line \u001b[1;32m2\u001b[0m\n\u001b[1;33m    9age = 92\u001b[0m\n\u001b[1;37m       ^\u001b[0m\n\u001b[1;31mSyntaxError\u001b[0m\u001b[1;31m:\u001b[0m invalid syntax\n"
     ]
    }
   ],
   "source": [
    "# First position of the variable can not be a number\n",
    "9age = 92"
   ]
  },
  {
   "cell_type": "code",
   "execution_count": 22,
   "metadata": {},
   "outputs": [
    {
     "name": "stdout",
     "output_type": "stream",
     "text": [
      "2\n",
      "7\n",
      "cat\n"
     ]
    }
   ],
   "source": [
    "# Multiple assignement\n",
    "x,y,z = 2,7, 'cat'\n",
    "print(x)\n",
    "print(y)\n",
    "print(z)"
   ]
  },
  {
   "cell_type": "markdown",
   "metadata": {},
   "source": [
    "# Data Types\n",
    "\n",
    "A data type defines the type of data, for example 650 is an integer data while “Aravind” is a String type of data. \n",
    "The data types in Python are divided in two categories:\n",
    "1. Immutable data types – Values cannot be changed.\n",
    "2. Mutable data types – Values can be changed\n",
    "\n",
    "Immutable data types in Python are:\n",
    "1. Numbers\n",
    "2. String\n",
    "3. Tuple\n",
    "\n",
    "Mutable data types in Python are:\n",
    "1. List\n",
    "2. Dictionaries\n",
    "3. Sets"
   ]
  },
  {
   "cell_type": "markdown",
   "metadata": {},
   "source": [
    "## 1.Numeric Data Type in Python\n",
    "\n",
    "#### Integer  \n",
    "In Python 3, there is no upper bound on the integer number which means we can have the value as large as our system memory allows."
   ]
  },
  {
   "cell_type": "code",
   "execution_count": 23,
   "metadata": {},
   "outputs": [
    {
     "name": "stdout",
     "output_type": "stream",
     "text": [
      "120\n",
      "Data Type of variable num is <class 'int'>\n"
     ]
    }
   ],
   "source": [
    "num = 120\n",
    "print(num)\n",
    "print(\"Data Type of variable num is\", type(num))"
   ]
  },
  {
   "cell_type": "markdown",
   "metadata": {},
   "source": [
    "#### Float \n",
    "Values with decimal points are the float values, there is no need to specify the data type in Python. It is automatically inferred based on the value we are assigning to a variable. \n",
    "For example here float_num is a float data type."
   ]
  },
  {
   "cell_type": "code",
   "execution_count": 25,
   "metadata": {},
   "outputs": [
    {
     "name": "stdout",
     "output_type": "stream",
     "text": [
      "28.56\n",
      "Data Type of variable fnum is <class 'float'>\n"
     ]
    }
   ],
   "source": [
    "float_num = 28.56\n",
    "print(float_num)\n",
    "print(\"Data Type of variable fnum is\", type(float_num))"
   ]
  },
  {
   "cell_type": "markdown",
   "metadata": {},
   "source": [
    "#### Complex Number \n",
    "Numbers with real and imaginary parts are known as complex numbers. \n",
    "Unlike other programming language such as Java, Python is able to identify these complex numbers with the values. In the following example when we print the type of the variable complex_num, it prints as complex number."
   ]
  },
  {
   "cell_type": "code",
   "execution_count": 25,
   "metadata": {},
   "outputs": [
    {
     "name": "stdout",
     "output_type": "stream",
     "text": [
      "(3+4j)\n",
      "Data Type of variable complex_num is <class 'complex'>\n"
     ]
    }
   ],
   "source": [
    "# complex number\n",
    "complex_num = 3 + 4j\n",
    "print(complex_num)\n",
    "print(\"Data Type of variable complex_num is\", type(complex_num))"
   ]
  },
  {
   "cell_type": "markdown",
   "metadata": {},
   "source": [
    "# 2. Python Data Type – String\n",
    "String is a sequence of characters in Python. The data type of String in Python is called “str”.\n",
    "\n",
    "Python strings can be enlosed in single quotes or double quotes or triple quotes! Let us look at each of them "
   ]
  },
  {
   "cell_type": "code",
   "execution_count": 37,
   "metadata": {},
   "outputs": [
    {
     "name": "stdout",
     "output_type": "stream",
     "text": [
      " S1 is a string\n"
     ]
    },
    {
     "data": {
      "text/plain": [
       "str"
      ]
     },
     "execution_count": 37,
     "metadata": {},
     "output_type": "execute_result"
    }
   ],
   "source": [
    "S1 = ' S1 is a string'\n",
    "print(S1)\n",
    "type(S1)"
   ]
  },
  {
   "cell_type": "code",
   "execution_count": 34,
   "metadata": {},
   "outputs": [
    {
     "name": "stdout",
     "output_type": "stream",
     "text": [
      "Tests, Quizzes, Individual Labs, Group Labs and Hackathons\n"
     ]
    },
    {
     "data": {
      "text/plain": [
       "str"
      ]
     },
     "execution_count": 34,
     "metadata": {},
     "output_type": "execute_result"
    }
   ],
   "source": [
    "grading = \"Tests, Quizzes, Individual Labs, Group Labs and Hackathons\"\n",
    "print(grading)\n",
    "type(grading)"
   ]
  },
  {
   "cell_type": "code",
   "execution_count": 38,
   "metadata": {},
   "outputs": [
    {
     "name": "stdout",
     "output_type": "stream",
     "text": [
      "CFU's, Analytical, References and Comprehension\n"
     ]
    }
   ],
   "source": [
    "tests = \"CFU's, Analytical, References and Comprehension\"\n",
    "print(tests)"
   ]
  },
  {
   "cell_type": "markdown",
   "metadata": {},
   "source": [
    "Note how in the string *tests* the single quote is accepted as part of the string without any special escpae mechanism. Similarly we can create and use strings with double quotes inside by enclosing the whole string in single quotes. Here is an example."
   ]
  },
  {
   "cell_type": "code",
   "execution_count": 34,
   "metadata": {},
   "outputs": [
    {
     "name": "stdout",
     "output_type": "stream",
     "text": [
      "Almost all ask the question \"What is the best k?\" when doing kNN\n"
     ]
    }
   ],
   "source": [
    "faq = 'Almost all ask the question \"What is the best k?\" when doing kNN'\n",
    "print(faq)"
   ]
  },
  {
   "cell_type": "markdown",
   "metadata": {},
   "source": [
    "Triple quoted strings are best used for documentation. But they are useful for storing long strings.\n",
    " * We can use single or double quotes\n",
    " * We can also use single quotes or dowuble quotes within\n",
    " * The line breaks etc are captured; that is there is no need for \\n"
   ]
  },
  {
   "cell_type": "code",
   "execution_count": 39,
   "metadata": {},
   "outputs": [
    {
     "name": "stdout",
     "output_type": "stream",
     "text": [
      "A long time ago, in a galaxy far far away ...\n",
      "\n",
      "It is a period of civil war. Rebel spaceships, striking \n",
      "from a hidden base, have won their first victory against \n",
      "the evil Galactic Empire.\n",
      "\n",
      "During the battle, Rebel spies managed to steal secret \n",
      "plans to the Empire's ultimate weapon, the DEATH STAR, \n",
      "an armored space station with enough power to destroy an entire planet.\n",
      "\n",
      "Pursued by the Empire's sinister agents, Princess Leia \n",
      "races home aboard her starship, custodian of the stolen \n",
      "plans that can save her people and restore freedom to the galaxy....\n"
     ]
    }
   ],
   "source": [
    "story = \"\"\"A long time ago, in a galaxy far far away ...\n",
    "\n",
    "It is a period of civil war. Rebel spaceships, striking \n",
    "from a hidden base, have won their first victory against \n",
    "the evil Galactic Empire.\n",
    "\n",
    "During the battle, Rebel spies managed to steal secret \n",
    "plans to the Empire's ultimate weapon, the DEATH STAR, \n",
    "an armored space station with enough power to destroy an entire planet.\n",
    "\n",
    "Pursued by the Empire's sinister agents, Princess Leia \n",
    "races home aboard her starship, custodian of the stolen \n",
    "plans that can save her people and restore freedom to the galaxy....\"\"\"\n",
    "print(story)"
   ]
  },
  {
   "cell_type": "markdown",
   "metadata": {},
   "source": [
    "##### Simple string operations\n",
    " * Concatnate by +, \n",
    " * multiple concatenation by * \n",
    " * check for substring with **in**\n",
    " * determine the size (number of characters) using *len*"
   ]
  },
  {
   "cell_type": "code",
   "execution_count": 37,
   "metadata": {},
   "outputs": [
    {
     "name": "stdout",
     "output_type": "stream",
     "text": [
      "Helloworld!\n",
      "Hello world!\n",
      "HelloHelloHelloHello   world!world!\n",
      "True\n",
      "False\n",
      "35\n"
     ]
    }
   ],
   "source": [
    "h = \"Hello\"\n",
    "w = \"world!\"\n",
    "hw = h + w\n",
    "print(hw)\n",
    "hsw = h + ' ' + w\n",
    "print(hsw)\n",
    "h4s3w2 = 4 * h + \" \" * 3 + w * 2\n",
    "print(h4s3w2)\n",
    "print(h in hsw)\n",
    "print(' ' in hw)\n",
    "print(len(h4s3w2))"
   ]
  },
  {
   "cell_type": "markdown",
   "metadata": {},
   "source": [
    "## 3. Python Data Type – Tuple\n",
    "\n",
    "Tuple is immutable data type in Python which means it cannot be changed. It is an ordered collection of elements enclosed in round brackets and separated by commas."
   ]
  },
  {
   "cell_type": "markdown",
   "metadata": {},
   "source": [
    "- Collection of elements with different data types`\n",
    "- Tuple is an ordered sequence of items same as list.`\n",
    "- The only difference is that tuples are immutable. Tuples once created cannot be modified.`\n",
    "- Tuples are just like lists, but you cannot modify their values. The initial values are the value"
   ]
  },
  {
   "cell_type": "markdown",
   "metadata": {},
   "source": [
    "- The easiest way to create one is with a comma-separated sequence of values created by `( )` and `tuple( )`\n",
    "- The easiest way to create one is with a comma-separated sequence of values."
   ]
  },
  {
   "cell_type": "code",
   "execution_count": 1,
   "metadata": {},
   "outputs": [
    {
     "data": {
      "text/plain": [
       "(10, 20, 30, 40, 50, 'Datafolkz')"
      ]
     },
     "execution_count": 1,
     "metadata": {},
     "output_type": "execute_result"
    }
   ],
   "source": [
    "# Using comma-separated sequence of values\n",
    "tup = 10 ,20 ,30,40,50,\"Datafolkz\"\n",
    "tup"
   ]
  },
  {
   "cell_type": "code",
   "execution_count": 46,
   "metadata": {},
   "outputs": [
    {
     "name": "stdout",
     "output_type": "stream",
     "text": [
      "(10, 2, 32, 42, 57)\n",
      "('Hey', 'Anjali', 'Goodbye')\n",
      "(22, 'Sarah', 456, 'Milly')\n"
     ]
    }
   ],
   "source": [
    "# tuple of integers\n",
    "t1 = (10, 2, 32, 42, 57)\n",
    "# prints entire tuple\n",
    "print(t1)\n",
    "\n",
    "# tuple of strings\n",
    "t2 = (\"Hey\", \"Anjali\", \"Goodbye\")\n",
    "print(t2)\n",
    "\n",
    "# tuple of mixed type elements\n",
    "t3 = (22, \"Sarah\", 456, \"Milly\")\n",
    "print(t3)\n"
   ]
  },
  {
   "cell_type": "code",
   "execution_count": 49,
   "metadata": {},
   "outputs": [
    {
     "data": {
      "text/plain": [
       "tuple"
      ]
     },
     "execution_count": 49,
     "metadata": {},
     "output_type": "execute_result"
    }
   ],
   "source": [
    "type(t1)"
   ]
  },
  {
   "cell_type": "code",
   "execution_count": 59,
   "metadata": {},
   "outputs": [
    {
     "ename": "TypeError",
     "evalue": "'str' object does not support item assignment",
     "output_type": "error",
     "traceback": [
      "\u001b[1;31m---------------------------------------------------------------------------\u001b[0m",
      "\u001b[1;31mTypeError\u001b[0m                                 Traceback (most recent call last)",
      "\u001b[1;32m<ipython-input-59-350edc49576f>\u001b[0m in \u001b[0;36m<module>\u001b[1;34m\u001b[0m\n\u001b[0;32m      3\u001b[0m \u001b[0mlen\u001b[0m\u001b[1;33m(\u001b[0m\u001b[0mname\u001b[0m\u001b[1;33m)\u001b[0m\u001b[1;33m\u001b[0m\u001b[1;33m\u001b[0m\u001b[0m\n\u001b[0;32m      4\u001b[0m \u001b[0mname\u001b[0m\u001b[1;33m[\u001b[0m\u001b[1;36m2\u001b[0m\u001b[1;33m]\u001b[0m \u001b[1;31m# Indexing the  element in second position\u001b[0m\u001b[1;33m\u001b[0m\u001b[1;33m\u001b[0m\u001b[0m\n\u001b[1;32m----> 5\u001b[1;33m \u001b[0mname\u001b[0m\u001b[1;33m[\u001b[0m\u001b[1;36m2\u001b[0m\u001b[1;33m]\u001b[0m \u001b[1;33m=\u001b[0m \u001b[1;34m\"P\"\u001b[0m\u001b[1;33m\u001b[0m\u001b[1;33m\u001b[0m\u001b[0m\n\u001b[0m",
      "\u001b[1;31mTypeError\u001b[0m: 'str' object does not support item assignment"
     ]
    }
   ],
   "source": [
    "# Why the strings are not immutable\n",
    "name = \"Aravind\"\n",
    "len(name)\n",
    "name[2] # Indexing the  element in second position\n",
    "name[2] = \"P\"\n"
   ]
  },
  {
   "cell_type": "code",
   "execution_count": 58,
   "metadata": {},
   "outputs": [
    {
     "ename": "TypeError",
     "evalue": "'tuple' object does not support item assignment",
     "output_type": "error",
     "traceback": [
      "\u001b[1;31m---------------------------------------------------------------------------\u001b[0m",
      "\u001b[1;31mTypeError\u001b[0m                                 Traceback (most recent call last)",
      "\u001b[1;32m<ipython-input-58-14870840c7b6>\u001b[0m in \u001b[0;36m<module>\u001b[1;34m\u001b[0m\n\u001b[0;32m      1\u001b[0m \u001b[0mt1\u001b[0m \u001b[1;33m=\u001b[0m \u001b[1;33m(\u001b[0m\u001b[1;36m10\u001b[0m\u001b[1;33m,\u001b[0m \u001b[1;36m2\u001b[0m\u001b[1;33m,\u001b[0m \u001b[1;36m32\u001b[0m\u001b[1;33m,\u001b[0m \u001b[1;36m42\u001b[0m\u001b[1;33m,\u001b[0m \u001b[1;36m57\u001b[0m\u001b[1;33m)\u001b[0m\u001b[1;33m\u001b[0m\u001b[1;33m\u001b[0m\u001b[0m\n\u001b[0;32m      2\u001b[0m \u001b[0mt1\u001b[0m\u001b[1;33m[\u001b[0m\u001b[1;36m3\u001b[0m\u001b[1;33m]\u001b[0m\u001b[1;33m\u001b[0m\u001b[1;33m\u001b[0m\u001b[0m\n\u001b[1;32m----> 3\u001b[1;33m \u001b[0mt1\u001b[0m\u001b[1;33m[\u001b[0m\u001b[1;36m3\u001b[0m\u001b[1;33m]\u001b[0m \u001b[1;33m=\u001b[0m \u001b[1;36m47\u001b[0m\u001b[1;33m\u001b[0m\u001b[1;33m\u001b[0m\u001b[0m\n\u001b[0m",
      "\u001b[1;31mTypeError\u001b[0m: 'tuple' object does not support item assignment"
     ]
    }
   ],
   "source": [
    "# Why the tuples are immutable?\n",
    "t1 = (10, 2, 32, 42, 57)\n",
    "t1[3]\n",
    "t1[3] = 47"
   ]
  },
  {
   "cell_type": "markdown",
   "metadata": {},
   "source": [
    "## 4.Python Data Type – List\n",
    "List is similar to tuple, it is also an ordered collection of elements, however list is a mutable data type which means it can be changed unlike tuple which is an immutable data type.\n",
    "\n",
    "A list is enclosed with square brackets and elements are separated by commas. \n",
    "\n",
    "A list is heterogenous; that is the data types of the things need not be the same."
   ]
  },
  {
   "cell_type": "code",
   "execution_count": 64,
   "metadata": {},
   "outputs": [],
   "source": [
    "f = [1, 1, 2, 3, 5, 8]\n",
    "p = [2, 3, 5, 7]\n",
    "grading = [\"Tests\", \"Quizzes\", \"Individual Labs\", \"Group Labs\", \"Hackathons\"]\n",
    "grades = [300, 60, 120, 60, 120]\n",
    "oddjob = [1, 5.6, True, 4-7j, \"Hello\", [1, 2], [3.9, \"World\"]]"
   ]
  },
  {
   "cell_type": "code",
   "execution_count": 65,
   "metadata": {},
   "outputs": [
    {
     "name": "stdout",
     "output_type": "stream",
     "text": [
      "[1, 1, 2, 10, 5, 8]\n"
     ]
    }
   ],
   "source": [
    "f[3] = 10\n",
    "print(f)"
   ]
  },
  {
   "cell_type": "code",
   "execution_count": 66,
   "metadata": {},
   "outputs": [
    {
     "name": "stdout",
     "output_type": "stream",
     "text": [
      "5\n"
     ]
    }
   ],
   "source": [
    "print(len(grading))"
   ]
  },
  {
   "cell_type": "code",
   "execution_count": 68,
   "metadata": {},
   "outputs": [
    {
     "name": "stdout",
     "output_type": "stream",
     "text": [
      "60 Hello\n",
      "Hackathons Individual Labs\n"
     ]
    }
   ],
   "source": [
    "# We access individual elements using the index\n",
    "# The first element is at index 0\n",
    "print(grades[1], oddjob[4])\n",
    "# We access the elements from the back using negative indices\n",
    "# -1 is the last, -2 is the last but one and so on\n",
    "print(grading[-1], grading[-3])"
   ]
  },
  {
   "cell_type": "code",
   "execution_count": 69,
   "metadata": {},
   "outputs": [
    {
     "name": "stdout",
     "output_type": "stream",
     "text": [
      "27 17\n"
     ]
    }
   ],
   "source": [
    "print(sum(f), sum(p))"
   ]
  },
  {
   "cell_type": "code",
   "execution_count": 46,
   "metadata": {},
   "outputs": [
    {
     "name": "stdout",
     "output_type": "stream",
     "text": [
      "300 60\n"
     ]
    }
   ],
   "source": [
    "print(max(grades), min(grades))"
   ]
  },
  {
   "cell_type": "markdown",
   "metadata": {},
   "source": [
    "## 5. Python Data Type – Dictionary\n",
    "Dictionary is a collection of key and value pairs. A dictionary doesn’t allow duplicate keys but the values can be duplicate. It is an ordered, indexed and mutable collection of elements. \n",
    "\n",
    "- The keys in a dictionary doesn’t necessarily to be a single data type.\n",
    "\n",
    "- In Python, dictionaries are defined within braces {} with each item being a pair in the form key:value. Key and   value can be of any type.`\n",
    "\n",
    "- To declare a dictionary, you write dictionaryName = {dictionary key : data}`"
   ]
  },
  {
   "cell_type": "code",
   "execution_count": 77,
   "metadata": {},
   "outputs": [
    {
     "data": {
      "text/plain": [
       "{'India': 'New delhi',\n",
       " 'Srilanka': 'Colombo',\n",
       " 'Bangladesh': 'Dakha',\n",
       " 'Bhutan': 'Thimpu'}"
      ]
     },
     "execution_count": 77,
     "metadata": {},
     "output_type": "execute_result"
    }
   ],
   "source": [
    "my_dict = {'India':'New delhi','Srilanka':'Colombo','Bangladesh':'Dakha','Bhutan':'Thimpu'}\n",
    "my_dict"
   ]
  },
  {
   "cell_type": "code",
   "execution_count": 78,
   "metadata": {},
   "outputs": [
    {
     "data": {
      "text/plain": [
       "dict"
      ]
     },
     "execution_count": 78,
     "metadata": {},
     "output_type": "execute_result"
    }
   ],
   "source": [
    "type(my_dict)"
   ]
  },
  {
   "cell_type": "markdown",
   "metadata": {},
   "source": [
    "###### Selection\n",
    "do selction with a key and get Values"
   ]
  },
  {
   "cell_type": "code",
   "execution_count": 84,
   "metadata": {},
   "outputs": [
    {
     "data": {
      "text/plain": [
       "'Colombo'"
      ]
     },
     "execution_count": 84,
     "metadata": {},
     "output_type": "execute_result"
    }
   ],
   "source": [
    "my_dict['Srilanka']"
   ]
  },
  {
   "cell_type": "markdown",
   "metadata": {},
   "source": [
    "##### using `get( )`"
   ]
  },
  {
   "cell_type": "code",
   "execution_count": 80,
   "metadata": {},
   "outputs": [
    {
     "data": {
      "text/plain": [
       "'Colombo'"
      ]
     },
     "execution_count": 80,
     "metadata": {},
     "output_type": "execute_result"
    }
   ],
   "source": [
    "my_dict.get('Srilanka')"
   ]
  },
  {
   "cell_type": "code",
   "execution_count": 87,
   "metadata": {},
   "outputs": [
    {
     "data": {
      "text/plain": [
       "{'Name': ['Raju', 'Raghav', 'Ram'],\n",
       " 'Age': [27, 25, 26],\n",
       " 'Designation': ['DS', 'DC', 'JDS']}"
      ]
     },
     "execution_count": 87,
     "metadata": {},
     "output_type": "execute_result"
    }
   ],
   "source": [
    "emp = {'Name':['Raju','Raghav','Ram'],'Age':[27,25,26],\n",
    "       'Designation':['DS','DC','JDS']}\n",
    "emp"
   ]
  },
  {
   "cell_type": "markdown",
   "metadata": {},
   "source": [
    "## Sets\n",
    "\n",
    "- Collection of elements with different data types \n",
    "- Collection unique elements\n",
    "- Indexing can not  be performed in set\n",
    "- Sets follow order \n",
    "- sets can be built using `set() and {  } "
   ]
  },
  {
   "cell_type": "code",
   "execution_count": 88,
   "metadata": {},
   "outputs": [
    {
     "data": {
      "text/plain": [
       "{'AI', 'Data Science', 'Machine Learning', 'Statistics'}"
      ]
     },
     "execution_count": 88,
     "metadata": {},
     "output_type": "execute_result"
    }
   ],
   "source": [
    "# note the double round-brackets while passing more than one value\n",
    "\n",
    "myset1 = set(['Data Science','AI','Machine Learning','Statistics'])\n",
    "myset1"
   ]
  },
  {
   "cell_type": "code",
   "execution_count": 89,
   "metadata": {},
   "outputs": [
    {
     "data": {
      "text/plain": [
       "{False, 1, 2, 5, 10, 55, 60, 80}"
      ]
     },
     "execution_count": 89,
     "metadata": {},
     "output_type": "execute_result"
    }
   ],
   "source": [
    "A = {1,1,1,2,2,5,10,5,80,80,55,55,60,True, False,0}\n",
    "A"
   ]
  },
  {
   "cell_type": "code",
   "execution_count": 74,
   "metadata": {},
   "outputs": [
    {
     "data": {
      "text/plain": [
       "set"
      ]
     },
     "execution_count": 74,
     "metadata": {},
     "output_type": "execute_result"
    }
   ],
   "source": [
    "type(A)"
   ]
  },
  {
   "cell_type": "code",
   "execution_count": 75,
   "metadata": {},
   "outputs": [
    {
     "data": {
      "text/plain": [
       "8"
      ]
     },
     "execution_count": 75,
     "metadata": {},
     "output_type": "execute_result"
    }
   ],
   "source": [
    "len(A)"
   ]
  },
  {
   "cell_type": "markdown",
   "metadata": {},
   "source": [
    "## Indexing for sets"
   ]
  },
  {
   "cell_type": "code",
   "execution_count": 90,
   "metadata": {},
   "outputs": [
    {
     "ename": "TypeError",
     "evalue": "'set' object does not support indexing",
     "output_type": "error",
     "traceback": [
      "\u001b[1;31m---------------------------------------------------------------------------\u001b[0m",
      "\u001b[1;31mTypeError\u001b[0m                                 Traceback (most recent call last)",
      "\u001b[1;32m<ipython-input-90-782c0e2fe61c>\u001b[0m in \u001b[0;36m<module>\u001b[1;34m\u001b[0m\n\u001b[1;32m----> 1\u001b[1;33m \u001b[0mA\u001b[0m\u001b[1;33m[\u001b[0m\u001b[1;36m0\u001b[0m\u001b[1;33m]\u001b[0m\u001b[1;33m\u001b[0m\u001b[1;33m\u001b[0m\u001b[0m\n\u001b[0m",
      "\u001b[1;31mTypeError\u001b[0m: 'set' object does not support indexing"
     ]
    }
   ],
   "source": [
    "A[0]"
   ]
  },
  {
   "cell_type": "code",
   "execution_count": null,
   "metadata": {},
   "outputs": [],
   "source": [
    "B = {'Innomatics','Technology',1,2,3,3}\n",
    "B"
   ]
  }
 ],
 "metadata": {
  "kernelspec": {
   "display_name": "Python 3",
   "language": "python",
   "name": "python3"
  },
  "language_info": {
   "codemirror_mode": {
    "name": "ipython",
    "version": 3
   },
   "file_extension": ".py",
   "mimetype": "text/x-python",
   "name": "python",
   "nbconvert_exporter": "python",
   "pygments_lexer": "ipython3",
   "version": "3.7.1"
  }
 },
 "nbformat": 4,
 "nbformat_minor": 4
}
