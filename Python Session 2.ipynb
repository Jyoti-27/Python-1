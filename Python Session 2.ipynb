{
 "cells": [
  {
   "cell_type": "code",
   "execution_count": 3,
   "metadata": {},
   "outputs": [
    {
     "name": "stdout",
     "output_type": "stream",
     "text": [
      "Jyoti\n",
      "35\n"
     ]
    }
   ],
   "source": [
    "name = \"Jyoti\"\n",
    "age = 35\n",
    "print(name)\n",
    "print(age)"
   ]
  },
  {
   "cell_type": "code",
   "execution_count": 6,
   "metadata": {},
   "outputs": [
    {
     "name": "stdout",
     "output_type": "stream",
     "text": [
      "Jyoti\n",
      "Jyoti 35\n"
     ]
    }
   ],
   "source": [
    "print(\"Jyoti\")\n",
    "print(name,age)"
   ]
  },
  {
   "cell_type": "code",
   "execution_count": 8,
   "metadata": {},
   "outputs": [
    {
     "name": "stdout",
     "output_type": "stream",
     "text": [
      "My name is  Jyoti\n"
     ]
    }
   ],
   "source": [
    "print(\"My name is \",name)"
   ]
  },
  {
   "cell_type": "code",
   "execution_count": 16,
   "metadata": {},
   "outputs": [
    {
     "name": "stdout",
     "output_type": "stream",
     "text": [
      "My Course is PCDS\n",
      "I belong the Cohort of August\n"
     ]
    }
   ],
   "source": [
    "Course = \"PCDS\"\n",
    "Cohort = \"August\"\n",
    "print(\"My Course is\", Course)\n",
    "print(\"I belong the Cohort of\", Cohort)"
   ]
  },
  {
   "cell_type": "code",
   "execution_count": 1,
   "metadata": {},
   "outputs": [
    {
     "data": {
      "text/plain": [
       "int"
      ]
     },
     "execution_count": 1,
     "metadata": {},
     "output_type": "execute_result"
    }
   ],
   "source": [
    "name = \"Jyoti\"\n",
    "age = 35\n",
    "type(name)\n",
    "type(age)"
   ]
  },
  {
   "cell_type": "code",
   "execution_count": 2,
   "metadata": {},
   "outputs": [],
   "source": [
    "name = \"Jyoti\"\n",
    "age = 35\n",
    "height = 156.5\n",
    "weight = 45"
   ]
  },
  {
   "cell_type": "markdown",
   "metadata": {},
   "source": [
    "## Data Types in Python"
   ]
  },
  {
   "cell_type": "markdown",
   "metadata": {},
   "source": [
    "- Some data types are mutable and some are immutable\n",
    "- Mutable are ones which can be modified\n",
    "- Immutable are the ones that can be modified once you create them"
   ]
  },
  {
   "cell_type": "markdown",
   "metadata": {},
   "source": [
    "Below given are the few data types that we have in Python\n",
    "- Numeric\n",
    "- String\n",
    "- Tuples\n",
    "- List\n",
    "- Dictionaries\n",
    "- Set\n",
    "- None \n",
    "- Range\n"
   ]
  },
  {
   "cell_type": "markdown",
   "metadata": {},
   "source": [
    "Mutable data types in Python\n",
    "- List\n",
    "- Dictionaries\n",
    "- Set"
   ]
  },
  {
   "cell_type": "markdown",
   "metadata": {},
   "source": [
    "Immutable data types in Python\n",
    "- Numeric\n",
    "- String\n",
    "- Tuples"
   ]
  },
  {
   "cell_type": "markdown",
   "metadata": {},
   "source": [
    "- Let's start our discussion with the immutable data types in Python\n",
    "- We will start our discussion with Numeric data typesin Python"
   ]
  },
  {
   "cell_type": "markdown",
   "metadata": {},
   "source": [
    "### Numeric Data Types in Python\n",
    "In Python we have 4 Numeric data types\n",
    "- Integer\n",
    "- Float\n",
    "- Boolean\n",
    "- Complex\n"
   ]
  },
  {
   "cell_type": "markdown",
   "metadata": {},
   "source": [
    "Let's talk about the Ineger data types in Python"
   ]
  },
  {
   "cell_type": "code",
   "execution_count": 9,
   "metadata": {},
   "outputs": [
    {
     "data": {
      "text/plain": [
       "int"
      ]
     },
     "execution_count": 9,
     "metadata": {},
     "output_type": "execute_result"
    }
   ],
   "source": [
    "# Create two Variables a and b with some integer values assigned to them\n",
    "a = 25\n",
    "b = 2\n",
    "type(a)"
   ]
  },
  {
   "cell_type": "code",
   "execution_count": 15,
   "metadata": {},
   "outputs": [
    {
     "name": "stdout",
     "output_type": "stream",
     "text": [
      "27\n",
      "23\n",
      "50\n",
      "12.5\n",
      "12\n",
      "625\n"
     ]
    }
   ],
   "source": [
    "# Let's perform some Arithmetic Operations on the Integer data types\n",
    "print(a + b) # Addition\n",
    "print(a - b) # Subtraction\n",
    "print(a * b) # Multiplication\n",
    "print(a / b) # Float Division\n",
    "print(a // b) # Truncated Division\n",
    "print(a ** b) # Exponential Operator"
   ]
  },
  {
   "cell_type": "markdown",
   "metadata": {},
   "source": [
    "Create two variables x and y with integer values.Then perform float division , truncated division and exponent(find x rise to power)"
   ]
  },
  {
   "cell_type": "code",
   "execution_count": 17,
   "metadata": {},
   "outputs": [
    {
     "name": "stdout",
     "output_type": "stream",
     "text": [
      "4.5\n",
      "4\n",
      "81\n"
     ]
    }
   ],
   "source": [
    "x = 9\n",
    "y = 2\n",
    "print(x / y)\n",
    "print(x // y)\n",
    "print(x ** y)"
   ]
  },
  {
   "cell_type": "code",
   "execution_count": 19,
   "metadata": {},
   "outputs": [
    {
     "data": {
      "text/plain": [
       "float"
      ]
     },
     "execution_count": 19,
     "metadata": {},
     "output_type": "execute_result"
    }
   ],
   "source": [
    "### Float data type in Python\n",
    "A = 2.56\n",
    "B = 3.57\n",
    "type(A)"
   ]
  },
  {
   "cell_type": "code",
   "execution_count": 24,
   "metadata": {},
   "outputs": [
    {
     "name": "stdout",
     "output_type": "stream",
     "text": [
      "12.9\n",
      "3.6\n",
      "16.5\n",
      "9.3\n",
      "46.440000000000005\n",
      "3.5833333333333335\n",
      "12.9 3.6 16.5 9.3 46.440000000000005 3.5833333333333335\n"
     ]
    }
   ],
   "source": [
    "a = 12.9\n",
    "b = 3.6\n",
    "c = a + b # Addition\n",
    "d = a - b # Sutraction\n",
    "e = a * b # Watch out for the roud off error! # Multiplication\n",
    "f = a / b # Float Division\n",
    "print(a, b, c, d, e, f, sep=\"\\n\")\n",
    "print(a, b, c, d, e, f)"
   ]
  },
  {
   "cell_type": "code",
   "execution_count": 25,
   "metadata": {},
   "outputs": [
    {
     "name": "stdout",
     "output_type": "stream",
     "text": [
      "<class 'float'>\n"
     ]
    }
   ],
   "source": [
    "a = 12.5\n",
    "print(type(a))"
   ]
  },
  {
   "cell_type": "code",
   "execution_count": null,
   "metadata": {},
   "outputs": [],
   "source": [
    "\n"
   ]
  }
 ],
 "metadata": {
  "kernelspec": {
   "display_name": "Python 3",
   "language": "python",
   "name": "python3"
  },
  "language_info": {
   "codemirror_mode": {
    "name": "ipython",
    "version": 3
   },
   "file_extension": ".py",
   "mimetype": "text/x-python",
   "name": "python",
   "nbconvert_exporter": "python",
   "pygments_lexer": "ipython3",
   "version": "3.7.6"
  }
 },
 "nbformat": 4,
 "nbformat_minor": 4
}
